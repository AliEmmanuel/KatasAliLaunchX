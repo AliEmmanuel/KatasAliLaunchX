{
 "cells": [
  {
   "cell_type": "markdown",
   "metadata": {},
   "source": [
    "Ejercicio: Uso de funciones en Python"
   ]
  },
  {
   "cell_type": "code",
   "execution_count": 12,
   "metadata": {},
   "outputs": [
    {
     "name": "stdout",
     "output_type": "stream",
     "text": [
      "Tanque 1:  400 \n",
      "Tanque 2:  200 \n",
      "Tanque 3:  350\n",
      "316.6666666666667\n"
     ]
    }
   ],
   "source": [
    "C1 = 400\n",
    "C2 = 200\n",
    "C3 = 350\n",
    "def LeerCombustible(C1, C2, C3):\n",
    "    print( \"Tanque 1: \", C1, \"\\nTanque 2: \", C2,\"\\nTanque 3: \", C3)\n",
    "    tanques=[C1,C2,C3]\n",
    "    Promedio(tanques)\n",
    "\n",
    "def Promedio(Tanques):\n",
    "    suma = 0\n",
    "    for item in Tanques:\n",
    "        suma += item\n",
    "    print(suma/len(Tanques))\n",
    "\n",
    "\n",
    "LeerCombustible(C1,C2,C3)"
   ]
  },
  {
   "cell_type": "markdown",
   "metadata": {},
   "source": [
    "Ejercicio 2: Trabajo con argumentos de palabra clave"
   ]
  },
  {
   "cell_type": "code",
   "execution_count": 15,
   "metadata": {},
   "outputs": [
    {
     "name": "stdout",
     "output_type": "stream",
     "text": [
      "\n",
      "    Tiempo para despegue: 2 horas\n",
      "    Tiempo de vuelo: 800 horas\n",
      "    Destino: Marte\n",
      "    Combustible en tanque externo: 900 litros\n",
      "    Combustible en tanque interno: 1000 litros\n",
      "    \n"
     ]
    }
   ],
   "source": [
    "Hlanzamiento = 2\n",
    "Tvuelo = 800\n",
    "Destino = \"Marte\"\n",
    "Texterno = 900\n",
    "Tinterno = 1000\n",
    "def Informe(Hprelanzamiento, Tvuelo, Destino, Texterno,Tinterno):\n",
    "    print( f\"\"\"\n",
    "    Tiempo para despegue: {Hprelanzamiento} horas\n",
    "    Tiempo de vuelo: {Tvuelo} horas\n",
    "    Destino: {Destino}\n",
    "    Combustible en tanque externo: {Texterno} litros\n",
    "    Combustible en tanque interno: {Tinterno} litros\n",
    "    \"\"\")\n",
    "Informe(Hlanzamiento, Tvuelo, Destino, Texterno,Tinterno)\n"
   ]
  }
 ],
 "metadata": {
  "interpreter": {
   "hash": "219e6dc4ba108f9e242629ac4da8e2166d1d6e6a0bf729e90e4aea18e649b0b7"
  },
  "kernelspec": {
   "display_name": "Python 3.10.2 64-bit",
   "language": "python",
   "name": "python3"
  },
  "language_info": {
   "codemirror_mode": {
    "name": "ipython",
    "version": 3
   },
   "file_extension": ".py",
   "mimetype": "text/x-python",
   "name": "python",
   "nbconvert_exporter": "python",
   "pygments_lexer": "ipython3",
   "version": "3.10.2"
  },
  "orig_nbformat": 4
 },
 "nbformat": 4,
 "nbformat_minor": 2
}
