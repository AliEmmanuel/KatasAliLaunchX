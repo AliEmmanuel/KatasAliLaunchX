{
 "cells": [
  {
   "cell_type": "markdown",
   "metadata": {},
   "source": [
    "Ejercicio1 - Utilizar Operadores aritméticos"
   ]
  },
  {
   "cell_type": "code",
   "execution_count": 40,
   "metadata": {},
   "outputs": [
    {
     "name": "stdout",
     "output_type": "stream",
     "text": [
      "628949330\n"
     ]
    },
    {
     "data": {
      "text/plain": [
       "390577533.93"
      ]
     },
     "execution_count": 40,
     "metadata": {},
     "output_type": "execute_result"
    }
   ],
   "source": [
    "dTierra = 149597870\n",
    "dJupiter = 778547200\n",
    "distancia = (dJupiter - dTierra)\n",
    "print(distancia)\n",
    "distancia*0.621"
   ]
  },
  {
   "cell_type": "markdown",
   "metadata": {},
   "source": [
    "Ejercicio2 - Convierte cadenas en numeros y usa valores absolutos"
   ]
  },
  {
   "cell_type": "code",
   "execution_count": 41,
   "metadata": {},
   "outputs": [
    {
     "data": {
      "text/plain": [
       "622.8629999999999"
      ]
     },
     "execution_count": 41,
     "metadata": {},
     "output_type": "execute_result"
    }
   ],
   "source": [
    "dPlaneta1 = input(\"Ingrese la distancia del primer planeta con respecto al sol\")\n",
    "dPlaneta2 = input(\"Ingere la distancia del segundo planeta con respecto al sol\")\n",
    "distancia = abs(int(dPlaneta1) - int(dPlaneta2))\n",
    "distancia*0.621\n"
   ]
  }
 ],
 "metadata": {
  "interpreter": {
   "hash": "219e6dc4ba108f9e242629ac4da8e2166d1d6e6a0bf729e90e4aea18e649b0b7"
  },
  "kernelspec": {
   "display_name": "Python 3.10.2 64-bit",
   "language": "python",
   "name": "python3"
  },
  "language_info": {
   "codemirror_mode": {
    "name": "ipython",
    "version": 3
   },
   "file_extension": ".py",
   "mimetype": "text/x-python",
   "name": "python",
   "nbconvert_exporter": "python",
   "pygments_lexer": "ipython3",
   "version": "3.10.2"
  },
  "orig_nbformat": 4
 },
 "nbformat": 4,
 "nbformat_minor": 2
}
