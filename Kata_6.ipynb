{
 "cells": [
  {
   "cell_type": "markdown",
   "metadata": {},
   "source": [
    "Ejercicio1: Crear y usar listas de Python"
   ]
  },
  {
   "cell_type": "code",
   "execution_count": 31,
   "metadata": {},
   "outputs": [
    {
     "name": "stdout",
     "output_type": "stream",
     "text": [
      "['Mercurio', 'Venus', 'Tierra', 'Marte', 'Jupiter', 'Saturno', 'Urano', 'Neptuno']\n",
      "Hay  8  planetas en el sistema solar\n",
      "\n",
      "El ultimo elmento de la lista es: Pluton\n",
      "Ahora hay  9  planetas en el sistema solar\n",
      "\n"
     ]
    }
   ],
   "source": [
    "planets = [\"Mercurio\",\"Venus\",\"Tierra\",\"Marte\",\"Jupiter\",\"Saturno\",\"Urano\",\"Neptuno\"]\n",
    "print(planets)\n",
    "print(\"Hay \",len(planets), \" planetas en el sistema solar\\n\")\n",
    "planets.append(\"Pluton\")\n",
    "print(\"El ultimo elmento de la lista es:\", planets[-1])\n",
    "print(\"Ahora hay \",len(planets), \" planetas en el sistema solar\\n\")"
   ]
  },
  {
   "cell_type": "markdown",
   "metadata": {},
   "source": [
    "Ejercicio 2: Trabajando con datos de una lista"
   ]
  },
  {
   "cell_type": "code",
   "execution_count": 52,
   "metadata": {},
   "outputs": [
    {
     "name": "stdout",
     "output_type": "stream",
     "text": [
      "Los planetas  ['Mercurio', 'Venus']  estan mas cerca que el planeta  Tierra\n",
      "Los planetas  ['Marte', 'Jupiter', 'Saturno', 'Urano', 'Neptuno']  estan mas alejados que el planeta  Tierra\n"
     ]
    }
   ],
   "source": [
    "planets = [\"Mercurio\",\"Venus\",\"Tierra\",\"Marte\",\"Jupiter\",\"Saturno\",\"Urano\",\"Neptuno\"]\n",
    "planet = input(\"Ingresa el nombre de un planeta (la primer letra debe ser mayuscula)\")\n",
    "pos_planet = planets.index(planet)\n",
    "print(\"Los planetas \",planets[0:pos_planet], \" estan mas cerca que el planeta \", planet)\n",
    "print(\"Los planetas \",planets[pos_planet+1:len(planets)],\" estan mas alejados que el planeta \" ,planet)\n"
   ]
  }
 ],
 "metadata": {
  "interpreter": {
   "hash": "219e6dc4ba108f9e242629ac4da8e2166d1d6e6a0bf729e90e4aea18e649b0b7"
  },
  "kernelspec": {
   "display_name": "Python 3.10.2 64-bit",
   "language": "python",
   "name": "python3"
  },
  "language_info": {
   "codemirror_mode": {
    "name": "ipython",
    "version": 3
   },
   "file_extension": ".py",
   "mimetype": "text/x-python",
   "name": "python",
   "nbconvert_exporter": "python",
   "pygments_lexer": "ipython3",
   "version": "3.10.2"
  },
  "orig_nbformat": 4
 },
 "nbformat": 4,
 "nbformat_minor": 2
}
