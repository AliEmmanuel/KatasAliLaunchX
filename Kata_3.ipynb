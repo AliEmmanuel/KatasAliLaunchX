{
 "cells": [
  {
   "cell_type": "markdown",
   "metadata": {},
   "source": [
    "Primeras declaraciones if, else, y elif"
   ]
  },
  {
   "cell_type": "code",
   "execution_count": 86,
   "metadata": {},
   "outputs": [
    {
     "name": "stdout",
     "output_type": "stream",
     "text": [
      "4  es el numero mayor\n"
     ]
    }
   ],
   "source": [
    "a = 4\n",
    "b = 3\n",
    "c = 2\n",
    "\n",
    "if a < c:\n",
    "    if b < c:\n",
    "        print(c, \" es el numero mayor\")\n",
    "    else:\n",
    "        print(b, \" es el numero mayor\")\n",
    "elif a > b:\n",
    "    print(a, \" es el numero mayor\")\n"
   ]
  },
  {
   "cell_type": "markdown",
   "metadata": {},
   "source": [
    "Verificar si un asteroide es una amenaza"
   ]
  },
  {
   "cell_type": "code",
   "execution_count": 87,
   "metadata": {},
   "outputs": [
    {
     "name": "stdout",
     "output_type": "stream",
     "text": [
      "Se acerca un asteroide a gran velocidad\n"
     ]
    }
   ],
   "source": [
    "asteroide = 49\n",
    "\n",
    "if asteroide > 25:\n",
    "    print(\"Se acerca un asteroide a gran velocidad\")\n",
    "else:\n",
    "    print(\"No hay nada de que preocuparse\")"
   ]
  },
  {
   "cell_type": "markdown",
   "metadata": {},
   "source": [
    "Verificar si un asteroide puede verse desde la tierra"
   ]
  },
  {
   "cell_type": "code",
   "execution_count": 88,
   "metadata": {},
   "outputs": [
    {
     "name": "stdout",
     "output_type": "stream",
     "text": [
      "Nada nuevo\n"
     ]
    }
   ],
   "source": [
    "asteroide = 19\n",
    "\n",
    "\n",
    "if asteroide >= 20:\n",
    "    luz = True\n",
    "    if luz:\n",
    "        print(\"Hay una luz en el cielo\")\n",
    "else:\n",
    "    print(\"Nada nuevo\")"
   ]
  },
  {
   "cell_type": "markdown",
   "metadata": {},
   "source": [
    "Conocer la amenaza del asteroide"
   ]
  },
  {
   "cell_type": "code",
   "execution_count": 89,
   "metadata": {},
   "outputs": [
    {
     "name": "stdout",
     "output_type": "stream",
     "text": [
      "Hay una luz en el cielo\n",
      "Hay un asteroide que va a causar un desastre en la tierra\n"
     ]
    }
   ],
   "source": [
    "T_asteroide = 30 #tamaño del asteroide\n",
    "V_asteroide = 26 #velocidad del asteroide\n",
    "\n",
    "if V_asteroide >= 20:\n",
    "    print(\"Hay una luz en el cielo\")\n",
    "\n",
    "if T_asteroide > 25 and V_asteroide > 25:\n",
    "    if T_asteroide < 1000:\n",
    "        print(\"Hay un asteroide que va a causar un desastre en la tierra\")\n",
    "    else:\n",
    "        print(\"Hay un asteroide que va a destruir la tierra \")\n",
    "else:\n",
    "    print(\"No hay ningun peligro\")\n"
   ]
  }
 ],
 "metadata": {
  "interpreter": {
   "hash": "219e6dc4ba108f9e242629ac4da8e2166d1d6e6a0bf729e90e4aea18e649b0b7"
  },
  "kernelspec": {
   "display_name": "Python 3.10.2 64-bit",
   "language": "python",
   "name": "python3"
  },
  "language_info": {
   "codemirror_mode": {
    "name": "ipython",
    "version": 3
   },
   "file_extension": ".py",
   "mimetype": "text/x-python",
   "name": "python",
   "nbconvert_exporter": "python",
   "pygments_lexer": "ipython3",
   "version": "3.10.2"
  },
  "orig_nbformat": 4
 },
 "nbformat": 4,
 "nbformat_minor": 2
}
